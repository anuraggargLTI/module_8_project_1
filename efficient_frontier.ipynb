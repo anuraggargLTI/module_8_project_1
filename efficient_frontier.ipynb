{
 "cells": [
  {
   "cell_type": "code",
   "execution_count": 1,
   "metadata": {},
   "outputs": [],
   "source": [
    "import pandas as pd\n",
    "import numpy as np\n",
    "import symbol_data\n",
    "import portfolio_data"
   ]
  },
  {
   "cell_type": "code",
   "execution_count": 10,
   "metadata": {},
   "outputs": [],
   "source": [
    "stocks = ['AAPL', 'MSFT']"
   ]
  },
  {
   "cell_type": "code",
   "execution_count": 8,
   "metadata": {},
   "outputs": [],
   "source": [
    "def stock_data_calculator(stocks):\n",
    "    # Generate a dataframe of daily returns for S&P 500\n",
    "    spx_daily_returns = symbol_data.get_historical_data('SPX')\n",
    "    spx_daily_returns = spx_daily_returns['Close'].pct_change().dropna()\n",
    "    # Create an empty dictionary to store the stock data\n",
    "    stock_data_dict = {}\n",
    "    # This section can be replaced by Anurag's function\n",
    "    for stock in stocks:\n",
    "        stock_df = symbol_data.get_historical_data(stock)\n",
    "        if 'close' in stock_df.columns:\n",
    "            daily_returns = stock_df['close'].pct_change().dropna()\n",
    "        if 'Close' in stock_df.columns:\n",
    "            daily_returns = stock_df['Close'].pct_change().dropna()\n",
    "        daily_returns_df = pd.concat(\n",
    "            [daily_returns, spx_daily_returns], \n",
    "            axis=1,\n",
    "            join='inner', \n",
    "            keys = [stock, 'SPX']\n",
    "            )\n",
    "        covariance = daily_returns_df[stock].cov(daily_returns_df['SPX'])\n",
    "        beta = covariance / daily_returns_df['SPX'].var()\n",
    "\n",
    "        std = daily_returns.std()\n",
    "\n",
    "        var = daily_returns.var()\n",
    "\n",
    "        expected_return = .035 + beta*(.1-.035)\n",
    "        \n",
    "        stock_data_dict[stock] = {'expected_return': expected_return, 'std': std, 'var': var, 'beta': beta}\n",
    "    return stock_data_dict"
   ]
  },
  {
   "cell_type": "code",
   "execution_count": null,
   "metadata": {},
   "outputs": [],
   "source": []
  },
  {
   "cell_type": "code",
   "execution_count": 2,
   "metadata": {},
   "outputs": [],
   "source": [
    "def portfolio_expected_return_calculator(stocks, weights):\n",
    "    # Create an empty list which will hold the expected returns\n",
    "    expected_returns = []\n",
    "    # Gather the stock data from the symbol_data_calculator function\n",
    "    stock_data = stock_data_calculator(stocks)\n",
    "    # Pull only the expected returns from the data\n",
    "    for stock in stock_data:\n",
    "        expected_returns.append(stock_data[stock]['expected_return'])\n",
    "    # Multiply the expected returns by the weights to get weighted expected returns\n",
    "    weighted_expected_returns = expected_returns * weights\n",
    "    # Sum all these to get the expected return of the portfolio\n",
    "    weighted_expected_returns = weighted_expected_returns.sum()\n",
    "    return weighted_expected_returns "
   ]
  },
  {
   "cell_type": "code",
   "execution_count": 3,
   "metadata": {},
   "outputs": [],
   "source": [
    "def portfolio_variance_calculator(stocks, weights):\n",
    "    # Retrieve a dataframe of close prices for all stocks entered\n",
    "    stock_df = portfolio_data.get_portfolio_historical_close_data(stocks)\n",
    "    # Get the daily returns of each stock\n",
    "    daily_returns = stock_df.pct_change().dropna()\n",
    "    \n",
    "    # Get the covariance array of the portfolio using the .cov() method.\n",
    "    portfolio_cov = np.array(daily_returns.cov())\n",
    "\n",
    "    # Get the standard deviation of each asset in the portfolio using the .std() method.\n",
    "    portfolio_std = np.array(daily_returns.std())\n",
    "\n",
    "    # Cross multiply the std array with the transposition of itself.\n",
    "    portfolio_stdT = np.transpose(np.array([portfolio_std]))\n",
    "    portfolio_std_cp = portfolio_std * portfolio_stdT\n",
    "\n",
    "    # Get the correlation matrix by dividing the covariance matrix by the standard deviation matrix.\n",
    "    correlation_matrix = portfolio_cov / portfolio_std_cp\n",
    "\n",
    "    # Get weighted standard deviation and save the transposition of that array.\n",
    "    weighted_std = portfolio_std * weights\n",
    "    weighted_stdT = np.transpose(np.array([weighted_std]))\n",
    "\n",
    "    # Calculate portfolio variance by first multiplying the covariance matrix by the \n",
    "    # weighted standard deviation array. This will give an array which is \n",
    "    # 1x<the number of stocks in the portfolio>\n",
    "    portfolio_var = np.matmul(weighted_std, correlation_matrix)\n",
    "    # Then multiplying that array by the transposition of the weighted standard deviation array.\n",
    "    # This will give a single value.\n",
    "    portfolio_var = np.matmul(portfolio_var, weighted_stdT)\n",
    "    # And finally taking the square root of that value.\n",
    "    portfolio_var = np.sqrt(portfolio_var)\n",
    "    return portfolio_var"
   ]
  },
  {
   "cell_type": "code",
   "execution_count": 6,
   "metadata": {},
   "outputs": [],
   "source": [
    "def efficient_frontier_generator(stocks):\n",
    "    portfolio_dict = {}\n",
    "    i = 0\n",
    "    while i < 1000:\n",
    "        weights = np.random.random(len(stocks))\n",
    "        weights /= weights.sum()\n",
    "        returns = portfolio_expected_return_calculator(stocks, weights)\n",
    "        risk = portfolio_variance_calculator(stocks, weights)\n",
    "        portfolio_dict[i] = {'returns': returns, 'risk': risk, 'weights': weights}\n",
    "        i += 1\n",
    "    return portfolio_dict"
   ]
  },
  {
   "cell_type": "code",
   "execution_count": 9,
   "metadata": {},
   "outputs": [
    {
     "name": "stdout",
     "output_type": "stream",
     "text": [
      "                AAPL   MSFT\n",
      "               close  close\n",
      "date                       \n",
      "2013-02-08   67.8542  27.55\n",
      "2013-02-11   68.5614  27.86\n",
      "2013-02-12   66.8428  27.88\n",
      "2013-02-13   66.7156  28.03\n",
      "2013-02-14   66.6556  28.04\n",
      "...              ...    ...\n",
      "2018-02-01  167.7800  94.26\n",
      "2018-02-02  160.5000  91.78\n",
      "2018-02-05  156.4900  88.00\n",
      "2018-02-06  163.0300  91.33\n",
      "2018-02-07  159.5400  89.61\n",
      "\n",
      "[1259 rows x 2 columns]\n"
     ]
    },
    {
     "ename": "AttributeError",
     "evalue": "'NoneType' object has no attribute 'pct_change'",
     "output_type": "error",
     "traceback": [
      "\u001b[0;31m---------------------------------------------------------------------------\u001b[0m",
      "\u001b[0;31mAttributeError\u001b[0m                            Traceback (most recent call last)",
      "Cell \u001b[0;32mIn[9], line 1\u001b[0m\n\u001b[0;32m----> 1\u001b[0m result \u001b[39m=\u001b[39m efficient_frontier_generator([\u001b[39m'\u001b[39;49m\u001b[39mAAPL\u001b[39;49m\u001b[39m'\u001b[39;49m, \u001b[39m'\u001b[39;49m\u001b[39mMSFT\u001b[39;49m\u001b[39m'\u001b[39;49m])\n",
      "Cell \u001b[0;32mIn[6], line 8\u001b[0m, in \u001b[0;36mefficient_frontier_generator\u001b[0;34m(stocks)\u001b[0m\n\u001b[1;32m      6\u001b[0m weights \u001b[39m/\u001b[39m\u001b[39m=\u001b[39m weights\u001b[39m.\u001b[39msum()\n\u001b[1;32m      7\u001b[0m returns \u001b[39m=\u001b[39m portfolio_expected_return_calculator(stocks, weights)\n\u001b[0;32m----> 8\u001b[0m risk \u001b[39m=\u001b[39m portfolio_variance_calculator(stocks, weights)\n\u001b[1;32m      9\u001b[0m portfolio_dict[i] \u001b[39m=\u001b[39m {\u001b[39m'\u001b[39m\u001b[39mreturns\u001b[39m\u001b[39m'\u001b[39m: returns, \u001b[39m'\u001b[39m\u001b[39mrisk\u001b[39m\u001b[39m'\u001b[39m: risk, \u001b[39m'\u001b[39m\u001b[39mweights\u001b[39m\u001b[39m'\u001b[39m: weights}\n\u001b[1;32m     10\u001b[0m i \u001b[39m+\u001b[39m\u001b[39m=\u001b[39m \u001b[39m1\u001b[39m\n",
      "Cell \u001b[0;32mIn[3], line 5\u001b[0m, in \u001b[0;36mportfolio_variance_calculator\u001b[0;34m(stocks, weights)\u001b[0m\n\u001b[1;32m      3\u001b[0m stock_df \u001b[39m=\u001b[39m portfolio_data\u001b[39m.\u001b[39mget_portfolio_historical_close_data(stocks)\n\u001b[1;32m      4\u001b[0m \u001b[39m# Get the daily returns of each stock\u001b[39;00m\n\u001b[0;32m----> 5\u001b[0m daily_returns \u001b[39m=\u001b[39m stock_df\u001b[39m.\u001b[39;49mpct_change()\u001b[39m.\u001b[39mdropna()\n\u001b[1;32m      7\u001b[0m \u001b[39m# Get the covariance array of the portfolio using the .cov() method.\u001b[39;00m\n\u001b[1;32m      8\u001b[0m portfolio_cov \u001b[39m=\u001b[39m np\u001b[39m.\u001b[39marray(daily_returns\u001b[39m.\u001b[39mcov())\n",
      "\u001b[0;31mAttributeError\u001b[0m: 'NoneType' object has no attribute 'pct_change'"
     ]
    }
   ],
   "source": [
    "result = efficient_frontier_generator(['AAPL', 'MSFT'])"
   ]
  },
  {
   "cell_type": "code",
   "execution_count": null,
   "metadata": {},
   "outputs": [],
   "source": []
  }
 ],
 "metadata": {
  "kernelspec": {
   "display_name": "Project_01",
   "language": "python",
   "name": "python3"
  },
  "language_info": {
   "codemirror_mode": {
    "name": "ipython",
    "version": 3
   },
   "file_extension": ".py",
   "mimetype": "text/x-python",
   "name": "python",
   "nbconvert_exporter": "python",
   "pygments_lexer": "ipython3",
   "version": "3.10.9"
  },
  "orig_nbformat": 4,
  "vscode": {
   "interpreter": {
    "hash": "d97317d8a5f3767d631f8f5f9cb1ef3203497d7b6331512fb7f06b031b983eac"
   }
  }
 },
 "nbformat": 4,
 "nbformat_minor": 2
}
