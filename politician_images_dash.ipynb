{
 "cells": [
  {
   "cell_type": "code",
   "execution_count": null,
   "id": "114c5154-2c3c-4638-ba32-971e77d967ff",
   "metadata": {},
   "outputs": [],
   "source": [
    "                   ),\n",
    "                                        },\n",
    "                                        config={\"displayModeBar\": True},\n",
    "                                    ),\n",
    "                                ],\n",
    "                                className=\"six columns\",\n",
    "                            ),\n",
    "                            html.Div(\n",
    "                                [\n",
    "                                    html.H6(\n",
    "                                        \"Portfolio Prediction\",\n",
    "                                        className=\"subtitle padded\",\n",
    "                                    ),\n",
    "                                    html.Img(src= app.get_asset_url(\"politician_tickers.png\"), height = 50, width = 370),\n",
    "                                    html.Img(src= app.get_asset_url(\"warner_MC_plot.png\"), height = 220, width = 370),\n",
    "                                    html.Img(src= app.get_asset_url(\"warner_MC_range_returns.png\"), height = 20, width = 370),\n",
    "                                    html.Img(src= app.get_asset_url(\"gianforte_MC_plot.png\"), height = 220, width = 370),\n",
    "                                    html.Img(src= app.get_asset_url(\"gianforte_MC_range_returns.png\"), height = 35, width = 370),\n",
    "                                    html.Img(src= app.get_asset_url(\"pelosi_MC_plot.png\"), height = 220, width = 370),\n",
    "                                     html.Img(src= app.get_asset_url(\"pelosi_MC_range_returns.png\"), height = 20, width = 370),\n",
    "                                ],\n",
    "                                className=\"six columns\","
   ]
  }
 ],
 "metadata": {
  "kernelspec": {
   "display_name": "dev",
   "language": "python",
   "name": "dev"
  },
  "language_info": {
   "codemirror_mode": {
    "name": "ipython",
    "version": 3
   },
   "file_extension": ".py",
   "mimetype": "text/x-python",
   "name": "python",
   "nbconvert_exporter": "python",
   "pygments_lexer": "ipython3",
   "version": "3.7.15"
  }
 },
 "nbformat": 4,
 "nbformat_minor": 5
}
