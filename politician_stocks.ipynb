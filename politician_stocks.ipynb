{
 "cells": [
  {
   "cell_type": "code",
   "execution_count": null,
   "id": "3caf54f6-1201-40e3-a622-b0024b624d10",
   "metadata": {},
   "outputs": [],
   "source": [
    "political_portfolio_dict_stock_list = \n",
    "[{'Mark_Warner': ['SPY', 'AKREX', 'TROW', 'COHOX', 'VTI']}, \n",
    " {'Greg_Gianforte': ['QQQ', 'SPY', 'VTI', 'FICO', 'WK', 'RHT']},\n",
    " {'Nancy_Pelosi': ['AAPL', 'V', 'DIS', 'CRM', 'META', 'CMCSA']}]\n",
    "                 \n",
    "#Mark Warner: SPDR s&p 500 etf, Akre focus fund, t. rowe price group, coho relative value equity fund, vanguard \n",
    "\n",
    "#Greg Gianforte: invesco qqq, SPDr s&p 500, vanguard, FICO, Workiva, red hat inc\n",
    "     poli\n",
    "#Nancy Pelosi: apple, visa, disney, salesforce, facebook, comcast"
   ]
  },
  {
   "cell_type": "code",
   "execution_count": 49,
   "id": "fd24ce4c-e0cb-49f5-92c1-f08afa481cf0",
   "metadata": {},
   "outputs": [
    {
     "data": {
      "text/plain": [
       "0.0171875"
      ]
     },
     "execution_count": 49,
     "metadata": {},
     "output_type": "execute_result"
    }
   ],
   "source": [
    "1000000/64000000\n"
   ]
  },
  {
   "cell_type": "code",
   "execution_count": 50,
   "id": "3fc0f34c-d66e-468c-ac9a-4962d48d7a3c",
   "metadata": {},
   "outputs": [
    {
     "data": {
      "text/plain": [
       "0.99"
      ]
     },
     "execution_count": 50,
     "metadata": {},
     "output_type": "execute_result"
    }
   ],
   "source": [
    ".4+.39+0.08+.08+0.04"
   ]
  },
  {
   "cell_type": "code",
   "execution_count": null,
   "id": "4d59bf27-6ef2-4303-afe7-fe83e15392aa",
   "metadata": {},
   "outputs": [],
   "source": [
    "warner_weights=[0.24, 0.23, 0.22, 0.22, 0.09]\n",
    "warner_investment_capital=116000000.00\n",
    "\n",
    "#Warner range of investments from $80m to $348m. Maximum value of assets assumed in calculations.\n",
    "#investment capital reduced by 2/3 to allow for easier analysis and accomodate top 1/3 of stock \n",
    "#investment portfolio. Net worth assumed as investment capital. AMG GW&K Municipal bond fund removed from \n",
    "#top 1/3 of stock assets to simplify calculations.\n",
    "\n",
    "gianforte_weights=[0.26, 0.22, 0.35, 0.08, 0.05, 0.04]\n",
    "gianforte_investment_capital = 94500000.00\n",
    "\n",
    "#weights of stocks making up 1/2 of Gianforte investment portfolio. Different Vanguard funds summed. \n",
    "#investment capital reduced by 1/2 to allow for easier analysis and accomodate top\n",
    "#1/2 of stock investment portfolio. Net worth assumed as investment capital. \n",
    "\n",
    "pelosi_weights=[0.40, 0.40, 0.08, 0.08, 0.02, 0.02]\n",
    "pelosi_investment_capital= 64000000.00\n",
    "                \n",
    "#Pelosi range of investments from $54m to $256m. Max value investments/assets assumed in calculations. \n",
    "#investment capital reduced by 3/4 to allow for easier analysis and accomodate top\n",
    "#1/4 of stock investment portfolio. Net worth assumed as investment capital."
   ]
  }
 ],
 "metadata": {
  "kernelspec": {
   "display_name": "dev",
   "language": "python",
   "name": "dev"
  },
  "language_info": {
   "codemirror_mode": {
    "name": "ipython",
    "version": 3
   },
   "file_extension": ".py",
   "mimetype": "text/x-python",
   "name": "python",
   "nbconvert_exporter": "python",
   "pygments_lexer": "ipython3",
   "version": "3.7.15"
  }
 },
 "nbformat": 4,
 "nbformat_minor": 5
}
