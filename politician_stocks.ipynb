{
 "cells": [
  {
   "cell_type": "code",
   "execution_count": 14,
   "id": "8939b79b-7e9c-40c6-ad49-e5487ed70091",
   "metadata": {},
   "outputs": [],
   "source": [
    "import os\n",
    "import requests\n",
    "import json\n",
    "import pandas as pd\n",
    "import yfinance as yf\n",
    "import pendulum\n",
    "import matplotlib.pyplot as plt\n",
    "\n",
    "%matplotlib inline"
   ]
  },
  {
   "cell_type": "code",
   "execution_count": 50,
   "id": "9ab3063c-ea27-4e74-9b4e-e8564013488a",
   "metadata": {},
   "outputs": [],
   "source": [
    "import numpy as np\n",
    "from pandas_datareader import data as wb\n",
    "import seaborn as sns\n",
    "from scipy.stats import norm\n",
    "import datetime as dt"
   ]
  },
  {
   "cell_type": "code",
   "execution_count": 53,
   "id": "0d281a59-3940-43af-b949-5a3e0022b054",
   "metadata": {},
   "outputs": [
    {
     "name": "stdout",
     "output_type": "stream",
     "text": [
      "2018-01-01 00:00:00\n"
     ]
    }
   ],
   "source": [
    "start=dt.datetime(2018,1,1)\n",
    "end=dt.datetime(2020,1,1)\n",
    "print(start)"
   ]
  },
  {
   "cell_type": "code",
   "execution_count": 74,
   "id": "b7fb1ff7-3247-4b26-a82a-9ce739a420ae",
   "metadata": {},
   "outputs": [
    {
     "ename": "SyntaxError",
     "evalue": "EOL while scanning string literal (673925292.py, line 3)",
     "output_type": "error",
     "traceback": [
      "\u001b[1;36m  File \u001b[1;32m\"C:\\Users\\Owner\\AppData\\Local\\Temp\\ipykernel_8988\\673925292.py\"\u001b[1;36m, line \u001b[1;32m3\u001b[0m\n\u001b[1;33m    data[ticker] = wb.DataReader(ticker, data_source = 'yahoo', start=start, end=end)[\"Close]\u001b[0m\n\u001b[1;37m                                                                                             ^\u001b[0m\n\u001b[1;31mSyntaxError\u001b[0m\u001b[1;31m:\u001b[0m EOL while scanning string literal\n"
     ]
    }
   ],
   "source": [
    "ticker = 'TSLA'\n",
    "data = pd.DataFrame()\n",
    "data[ticker] = wb.DataReader(ticker, data_source = 'yahoo', start=start, end=end)[\"Close\"]\n",
    "#Plot\n",
    "goog.plt(figsize=(15,6))"
   ]
  },
  {
   "cell_type": "code",
   "execution_count": 63,
   "id": "e7ca7f88-035d-4116-82d6-b019d9a72c61",
   "metadata": {},
   "outputs": [
    {
     "data": {
      "text/plain": [
       "[<matplotlib.lines.Line2D at 0x1294026b0c8>]"
      ]
     },
     "execution_count": 63,
     "metadata": {},
     "output_type": "execute_result"
    },
    {
     "data": {
      "image/png": "[encoded data removed]",
      "text/plain": [
       "<Figure size 640x480 with 1 Axes>"
      ]
     },
     "metadata": {},
     "output_type": "display_data"
    }
   ],
   "source": [
    "price_history = yf.Ticker('TSLA').history(period='2y', # valid periods: 1d,5d,1mo,3mo,6mo,1y,2y,5y,10y,ytd,max\n",
    "                                   interval='1mo', # valid intervals: 1m,2m,5m,15m,30m,60m,90m,1h,1d,5d,1wk,1mo,3mo\n",
    "                                   actions=False)\n",
    "time_series = list(price_history['Close'])\n",
    "dt_list = [pendulum.parse(str(dt)).float_timestamp for dt in list(price_history.index)]\n",
    "\n",
    "plt.plot(dt_list, time_series)"
   ]
  },
  {
   "cell_type": "code",
   "execution_count": null,
   "id": "3caf54f6-1201-40e3-a622-b0024b624d10",
   "metadata": {},
   "outputs": [],
   "source": [
    "political_portfolio_dict_stock_list = [{'Mark_Warner': ['SPY', 'AKREX', 'TROW', 'COHOX', 'VTI']}, \n",
    " {'Greg_Gianforte': ['QQQ', 'SPY', 'VTI', 'FICO', 'WK', 'RHT']},\n",
    " {'Nancy_Pelosi': ['AAPL', 'V', 'DIS', 'CRM', 'META', 'CMCSA']}]\n",
    "                 \n",
    "#Mark Warner: SPDR s&p 500 etf, Akre focus fund, t. rowe price group, coho relative value equity fund, vanguard \n",
    "\n",
    "#Greg Gianforte: invesco qqq, SPDr s&p 500, vanguard, FICO, Workiva, red hat inc\n",
    "\n",
    "#Nancy Pelosi: apple, visa, disney, salesforce, facebook, comcast"
   ]
  },
  {
   "cell_type": "code",
   "execution_count": null,
   "id": "4d59bf27-6ef2-4303-afe7-fe83e15392aa",
   "metadata": {},
   "outputs": [],
   "source": [
    "warner_weights=[0.24, 0.23, 0.22, 0.22, 0.09]\n",
    "warner_investment_capital=116000000.00\n",
    "\n",
    "#Warner range of investments from $80m to $348m. Maximum value of assets assumed in calculations.\n",
    "#investment capital reduced by 2/3 to allow for easier analysis and accomodate top 1/3 of stock \n",
    "#investment portfolio. Net worth assumed as investment capital. AMG GW&K Municipal bond fund removed from \n",
    "#top 1/3 of stock assets to simplify calculations.\n",
    "\n",
    "gianforte_weights=[0.26, 0.22, 0.35, 0.08, 0.05, 0.04]\n",
    "gianforte_investment_capital = 94500000.00\n",
    "\n",
    "#weights of stocks making up 1/2 of Gianforte investment portfolio. Different Vanguard funds summed. \n",
    "#investment capital reduced by 1/2 to allow for easier analysis and accomodate top\n",
    "#1/2 of stock investment portfolio. Net worth assumed as investment capital. \n",
    "\n",
    "pelosi_weights=[0.40, 0.40, 0.08, 0.08, 0.02, 0.02]\n",
    "pelosi_investment_capital= 64000000.00\n",
    "                \n",
    "#Pelosi range of investments from $54m to $256m. Max value investments/assets assumed in calculations. \n",
    "#investment capital reduced by 3/4 to allow for easier analysis and accomodate top\n",
    "#1/4 of stock investment portfolio. Net worth assumed as investment capital."
   ]
  },
  {
   "cell_type": "code",
   "execution_count": null,
   "id": "42bcb12f-ca01-4d43-bf57-d3c57fe0032a",
   "metadata": {},
   "outputs": [],
   "source": [
    "warner_tickers= ['SPY', 'AKREX', 'TROW', 'COHOX', 'VTI']\n",
    "gianforte_tickers=['QQQ', 'SPY', 'VTI', 'FICO', 'WK', 'RHT']\n",
    "pelosi_tickers=['AAPL', 'V', 'DIS', 'CRM', 'META', 'CMCSA']\n",
    "\n",
    "timeframe='1Day'\n",
    "\n",
    "start_date = pd.Timestamp(\"2020-08-07\", tz=\"America/New_York\").isoformat()\n",
    "end_date = pd.Timestamp(\"2020-08-07\", tz=\"America/New_York\").isoformat()"
   ]
  },
  {
   "cell_type": "code",
   "execution_count": null,
   "id": "b87766aa-a065-4244-9478-91acd39266ac",
   "metadata": {},
   "outputs": [],
   "source": [
    "spy_shares_warner= 110476\n",
    "akrex_shares_warner= 762286\n",
    "trow_shares_warner= 220000\n",
    "cohox_shares_warner= 1772222\n",
    "vti_shares_warner= 74359\n",
    "\n",
    "qqq_shares_gianforte= 149271\n",
    "spy_shares_gianforte= 82500\n",
    "vti_shares_gianforte= 235577\n",
    "fico_shares_gianforte= 39171\n",
    "wk_shares_gianforte= 181730\n",
    "rht_shares_gianforte= 25116\n",
    "\n",
    "aapl_shares_pelosi=548180\n",
    "visa_shares_pelosi=193939\n",
    "dis_shares_pelosi=46694\n",
    "crm_shares_pelosi=37372\n",
    "meta_shares_pelosi=7442\n",
    "cmcsa_shares_pelosi=35774\n",
    "\n",
    "#total shares calculated based on 2018 median share prices for each stock in portfolio b/c most recent portfolio data\n",
    "#from 2018. should "
   ]
  },
  {
   "cell_type": "code",
   "execution_count": null,
   "id": "4369c69d-5c7f-4b91-8fbf-909f127fdc14",
   "metadata": {},
   "outputs": [],
   "source": [
    "stock_investment= pelosi_investment_capital * 0.02\n",
    "#spy 2018 median share price =252\n",
    "#akrex 2018 median share price = 35\n",
    "#trow 2018 median share price = 116\n",
    "#cohox 2018 median share price = 14.4\n",
    "#vti 2018 median share price = 140.4\n",
    "\n",
    "#qqq 2018 med share price = 164.6\n",
    "#fico 2018 med share price = 193\n",
    "#wk 2018 med share price = 26\n",
    "#rht 2018 med share price = 150.5\n",
    "\n",
    "#aapl 2018 med share price = 46.7\n",
    "#visa 2018 med share price = 132\n",
    "#disney 2018 med share price = 109.65\n",
    "#crm 2018 med share price = 137\n",
    "#meta 2018 med share price = 172\n",
    "#cmcsa 2018 med share price = 35.78"
   ]
  },
  {
   "cell_type": "code",
   "execution_count": null,
   "id": "229a9d53-7d03-4edc-a24a-e73f5b02ad74",
   "metadata": {},
   "outputs": [],
   "source": [
    "stock_investment/35.78"
   ]
  },
  {
   "cell_type": "code",
   "execution_count": null,
   "id": "551e8e99-811a-4cc0-bf59-d689fedeb594",
   "metadata": {},
   "outputs": [],
   "source": []
  }
 ],
 "metadata": {
  "kernelspec": {
   "display_name": "dev",
   "language": "python",
   "name": "dev"
  },
  "language_info": {
   "codemirror_mode": {
    "name": "ipython",
    "version": 3
   },
   "file_extension": ".py",
   "mimetype": "text/x-python",
   "name": "python",
   "nbconvert_exporter": "python",
   "pygments_lexer": "ipython3",
   "version": "3.7.15"
  }
 },
 "nbformat": 4,
 "nbformat_minor": 5
}
